{
 "cells": [
  {
   "cell_type": "markdown",
   "id": "d88f67b7",
   "metadata": {},
   "source": [
    "#Python - Worksheet 1 (Qs. 11 to 15)"
   ]
  },
  {
   "cell_type": "code",
   "execution_count": 7,
   "id": "f41022ad",
   "metadata": {},
   "outputs": [
    {
     "name": "stdout",
     "output_type": "stream",
     "text": [
      "Enter an integer 7\n",
      "The factorial of 7 is 5040\n"
     ]
    }
   ],
   "source": [
    "# Qs. 11 Factorial of a number\n",
    "\n",
    "n = int(input(\"Enter an integer \"))\n",
    "f = 1 \n",
    "\n",
    "# Check if n is negative, zero or positive\n",
    "\n",
    "if n<0:\n",
    "    print(\"Sorry factorial is not present for negative numbers\")\n",
    "elif n==0:\n",
    "    print(\"The factorial of 0 is 1\")\n",
    "else:\n",
    "    for i in range(1,n+1):\n",
    "        f = f * i  \n",
    "    print(\"The factorial of\", n, \"is\", f)   \n",
    "    "
   ]
  },
  {
   "cell_type": "code",
   "execution_count": 10,
   "id": "c4b3ae91",
   "metadata": {},
   "outputs": [
    {
     "name": "stdout",
     "output_type": "stream",
     "text": [
      "Enter a number 29\n",
      "The number is a prime number\n"
     ]
    }
   ],
   "source": [
    "# Qs. 12 Prime or composite number\n",
    "\n",
    "num = 29\n",
    "\n",
    "# Take input from user\n",
    "\n",
    "num = int(input(\"Enter a number \"))\n",
    "\n",
    "# Define a flag variable \n",
    "\n",
    "flag = False\n",
    "\n",
    "# prime numbers are greater than 1\n",
    "\n",
    "if num>1:\n",
    "    \n",
    "    # check for factors\n",
    "    \n",
    "    for i in range(2,num):\n",
    "        if num%i==0:\n",
    "            # If factors are found set flag to True\n",
    "            flag = True\n",
    "            # Break out of loop\n",
    "            break\n",
    "    \n",
    "# check if flag is True\n",
    "    \n",
    "if flag==True:\n",
    "    print(\"The number is a composite number\")\n",
    "else:\n",
    "    print(\"The number is a prime number\")"
   ]
  },
  {
   "cell_type": "code",
   "execution_count": 21,
   "id": "ca03a774",
   "metadata": {},
   "outputs": [
    {
     "name": "stdout",
     "output_type": "stream",
     "text": [
      "Enter string Level\n",
      "level\n",
      "The string is palindrome\n"
     ]
    }
   ],
   "source": [
    "# Qs. 13 String is palindrome or not\n",
    "\n",
    "# Take input from the user\n",
    "\n",
    "s = input(\"Enter string \")\n",
    "# suitable for caseless comparison\n",
    "s=s.casefold()\n",
    "s1 = s[::-1] # reverse the string\n",
    "print(s1)\n",
    "if list(s)==list(s1): # check if the string are same \n",
    "    print(\"The string is palindrome\")\n",
    "else:\n",
    "    print(\"The string is not palindrome\")"
   ]
  },
  {
   "cell_type": "code",
   "execution_count": 22,
   "id": "8d09a04b",
   "metadata": {},
   "outputs": [
    {
     "name": "stdout",
     "output_type": "stream",
     "text": [
      "Enter the first side 3\n",
      "Enter the second side 4\n",
      "The third side of a right angled triangle is 5.0\n"
     ]
    }
   ],
   "source": [
    "# Qs. 14 Third side of a right angled traigle from two given sides\n",
    "\n",
    "import math\n",
    "\n",
    "# Take input from the user\n",
    "\n",
    "a=float(input(\"Enter the first side \"))\n",
    "b=float(input(\"Enter the second side \"))\n",
    "c=math.sqrt((a**2)+(b**2)) # The third side\n",
    "print(\"The third side of a right angled triangle is\", c)"
   ]
  },
  {
   "cell_type": "code",
   "execution_count": 2,
   "id": "07a1e6b7",
   "metadata": {},
   "outputs": [
    {
     "name": "stdout",
     "output_type": "stream",
     "text": [
      "Enter string Mississippi\n",
      "The count of all characters in Mississippi is : \n",
      " {'M': 1, 'i': 4, 's': 4, 'p': 2}\n"
     ]
    }
   ],
   "source": [
    "# Qs. 15 Frequency of characters in a string\n",
    "\n",
    "# Take input from user\n",
    "\n",
    "test_str = input(\"Enter string \")\n",
    "\n",
    "# count of each character in the string\n",
    "\n",
    "all_freq = {}\n",
    "\n",
    "for i in test_str:\n",
    "    if i in all_freq:\n",
    "        all_freq[i]+=1\n",
    "    else:\n",
    "        all_freq[i]=1\n",
    "        \n",
    "print(\"The count of all characters in\", test_str, \"is : \\n \"\n",
    "     + str(all_freq))"
   ]
  },
  {
   "cell_type": "code",
   "execution_count": null,
   "id": "e5fdefd8",
   "metadata": {},
   "outputs": [],
   "source": []
  }
 ],
 "metadata": {
  "kernelspec": {
   "display_name": "Python 3 (ipykernel)",
   "language": "python",
   "name": "python3"
  },
  "language_info": {
   "codemirror_mode": {
    "name": "ipython",
    "version": 3
   },
   "file_extension": ".py",
   "mimetype": "text/x-python",
   "name": "python",
   "nbconvert_exporter": "python",
   "pygments_lexer": "ipython3",
   "version": "3.11.7"
  }
 },
 "nbformat": 4,
 "nbformat_minor": 5
}
